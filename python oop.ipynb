{
 "cells": [
  {
   "cell_type": "code",
   "execution_count": 1,
   "id": "4f7e99fc",
   "metadata": {},
   "outputs": [],
   "source": [
    "#1\n",
    "class Vehicle:\n",
    "    pass"
   ]
  },
  {
   "cell_type": "code",
   "execution_count": 2,
   "id": "e22b2eb7",
   "metadata": {},
   "outputs": [],
   "source": [
    "#2\n",
    "class Vehicle:\n",
    "    def __init__(self, name, mileage, max_speed):\n",
    "        self.mileage=mileage\n",
    "        self.name=name\n",
    "        self.max_speed=max_speed\n",
    "        \n",
    "    def seating_capacity(self, capacity=50):\n",
    "        print(f'The seating capacity is {capacity}')"
   ]
  },
  {
   "cell_type": "code",
   "execution_count": 3,
   "id": "79ff525a",
   "metadata": {},
   "outputs": [],
   "source": [
    "#3\n",
    "class Bus(Vehicle):\n",
    "    def __str__(self):\n",
    "        return(f'name is:{self.name} its mileage is :{self.mileage} and max speed is :{self.max_speed}')"
   ]
  },
  {
   "cell_type": "code",
   "execution_count": 4,
   "id": "bb6eb50b",
   "metadata": {},
   "outputs": [
    {
     "name": "stdout",
     "output_type": "stream",
     "text": [
      "name is:school_bus its mileage is :50 and max speed is :12\n"
     ]
    }
   ],
   "source": [
    "#4\n",
    "bus1=Bus('school_bus',50,12)\n",
    "print(bus1)"
   ]
  },
  {
   "cell_type": "code",
   "execution_count": 5,
   "id": "76b9c127",
   "metadata": {},
   "outputs": [
    {
     "name": "stdout",
     "output_type": "stream",
     "text": [
      "The seating capacity is 50\n"
     ]
    }
   ],
   "source": [
    "#5\n",
    "class Bus(Vehicle):    \n",
    "    def __str__(self):\n",
    "        return(f'name is:{self.name} its mileage is :{self.mileage} and max speed is :{self.max_speed}')\n",
    "\n",
    "bus2=Bus('Tesla',50,12)\n",
    "bus2.seating_capacity()    "
   ]
  },
  {
   "cell_type": "code",
   "execution_count": 6,
   "id": "fde862b4",
   "metadata": {},
   "outputs": [
    {
     "name": "stdout",
     "output_type": "stream",
     "text": [
      "Total Bus fare is: 5500\n"
     ]
    }
   ],
   "source": [
    "#6\n",
    "class Vehicle:\n",
    "    def __init__(self,name,mileage,max_speed,capacity):\n",
    "        self.mileage=mileage\n",
    "        self.max_speed=max_speed\n",
    "        self.name=name\n",
    "        self.capacity=capacity\n",
    "    def seating_capacity(self): \n",
    "        print(f'the seating capacity is {self.capacity}')\n",
    "      \n",
    "    def fare(self):\n",
    "        return self.capacity*100\n",
    "\n",
    "class Bus(Vehicle):\n",
    "    def fare(self):\n",
    "        return self.capacity*110\n",
    "        \n",
    "    def __str__(self):\n",
    "        return(f'name is:{self.name} its mileage is :{self.mileage} and max speed is :{self.max_speed}')\n",
    "\n",
    "bus3=Bus('Tesla',50,12,50)\n",
    "print(f\"Total Bus fare is: {bus3.fare()}\")"
   ]
  },
  {
   "cell_type": "code",
   "execution_count": 7,
   "id": "0cf540d9",
   "metadata": {},
   "outputs": [
    {
     "name": "stdout",
     "output_type": "stream",
     "text": [
      "<class '__main__.Bus'>\n"
     ]
    }
   ],
   "source": [
    "\n",
    "#7\n",
    "print(type(bus3))"
   ]
  },
  {
   "cell_type": "code",
   "execution_count": 8,
   "id": "5698adbd",
   "metadata": {},
   "outputs": [
    {
     "name": "stdout",
     "output_type": "stream",
     "text": [
      "True\n"
     ]
    }
   ],
   "source": [
    "#8\n",
    "print(isinstance(bus3,Vehicle))"
   ]
  },
  {
   "cell_type": "code",
   "execution_count": 9,
   "id": "86d03869",
   "metadata": {},
   "outputs": [
    {
     "name": "stdout",
     "output_type": "stream",
     "text": [
      "True\n"
     ]
    }
   ],
   "source": [
    "#9\n",
    "print(issubclass(Bus,Vehicle))"
   ]
  },
  {
   "cell_type": "code",
   "execution_count": 10,
   "id": "52f2f88f",
   "metadata": {},
   "outputs": [
    {
     "name": "stdout",
     "output_type": "stream",
     "text": [
      "Total Bus fare is: 5500\n"
     ]
    }
   ],
   "source": [
    "#10\n",
    "class Vehicle:\n",
    "    def __init__(self,name,mileage,max_speed,capacity):\n",
    "        self.mileage=mileage\n",
    "        self.max_speed=max_speed\n",
    "        self.name=name\n",
    "        self.capacity=capacity\n",
    "    def seating_capacity(self): \n",
    "        print(f'the seating capacity is {self.capacity}')\n",
    "      \n",
    "    def fare(self):\n",
    "        return self.capacity*100\n",
    "\n",
    "class Bus(Vehicle):\n",
    "    def fare(self):\n",
    "        return self.capacity*110\n",
    "        \n",
    "    def __str__(self):\n",
    "        return(f'name is:{self.name} its mileage is :{self.mileage} and max speed is :{self.max_speed}')\n",
    "    \n",
    "class Minibus(Bus):\n",
    "    def print_price(self):\n",
    "        return super().fare()\n",
    "    \n",
    "    \n",
    "minibus1=Minibus('Tesla',12 ,50 ,50)\n",
    "print(\"Total Bus fare is:\",minibus1.print_price())    "
   ]
  },
  {
   "cell_type": "code",
   "execution_count": 11,
   "id": "4db4345b",
   "metadata": {},
   "outputs": [
    {
     "name": "stdout",
     "output_type": "stream",
     "text": [
      "The car is Tesla\n"
     ]
    }
   ],
   "source": [
    "#11\n",
    "class car(Vehicle):\n",
    "    def Print(self):\n",
    "        print(f'The car is {self.name}')\n",
    "        \n",
    "\n",
    "car1=car('Tesla',12,50,50)\n",
    "car1.Print()"
   ]
  },
  {
   "cell_type": "code",
   "execution_count": 13,
   "id": "396fe54e",
   "metadata": {},
   "outputs": [
    {
     "name": "stdout",
     "output_type": "stream",
     "text": [
      "Circle\n",
      "I am a two-dimensional shape.\n",
      "Squares have each angle equal to 90 degrees.\n",
      "153.93804002589985\n"
     ]
    }
   ],
   "source": [
    "#12\n",
    "from math import pi\n",
    "class Shape:\n",
    "    def __init__(self, name):self.name = name\n",
    "    def area(self):\n",
    "        pass\n",
    "    def fact(self):\n",
    "        return \"I am a two-dimensional shape.\"\n",
    "    def __str__(self):\n",
    "        return self.name\n",
    "class Square(Shape):\n",
    "    def __init__(self, length):\n",
    "        super().__init__(\"Square\")\n",
    "        self.length = length\n",
    "    def area(self):\n",
    "        return self.length**2\n",
    "    def fact(self):\n",
    "        return \"Squares have each angle equal to 90 degrees.\"\n",
    "class Circle(Shape):\n",
    "    def __init__(self, radius):\n",
    "        super().__init__(\"Circle\")\n",
    "        self.radius = radius\n",
    "    def area(self):\n",
    "        return pi*self.radius**2\n",
    "    \n",
    "a = Square(4)\n",
    "b = Circle(7)\n",
    "print(b)\n",
    "print(b.fact())\n",
    "print(a.fact())\n",
    "print(b.area())"
   ]
  },
  {
   "cell_type": "code",
   "execution_count": 15,
   "id": "427a873e",
   "metadata": {},
   "outputs": [
    {
     "name": "stdout",
     "output_type": "stream",
     "text": [
      "Details: Tesla Red 20000\n",
      "Car max speed is 240\n",
      "Car change 7 gear\n",
      "Details: BMW white 75000\n",
      "Vehicle max speed is 150\n",
      "Vehicle change 6 gear\n"
     ]
    }
   ],
   "source": [
    "#13\n",
    "class Vehicle:\n",
    "\n",
    "    def __init__(self, name, color, price):\n",
    "        self.name = name\n",
    "        self.color = color\n",
    "        self.price = price\n",
    "\n",
    "    def show(self):\n",
    "        print('Details:', self.name, self.color, self.price)\n",
    "\n",
    "    def max_speed(self):\n",
    "        print('Vehicle max speed is 150')\n",
    "\n",
    "    def change_gear(self):\n",
    "        print('Vehicle change 6 gear')\n",
    "\n",
    "\n",
    "# inherit from vehicle class\n",
    "class Car(Vehicle):\n",
    "    def max_speed(self):\n",
    "        print('Car max speed is 240')\n",
    "\n",
    "    def change_gear(self):\n",
    "        print('Car change 7 gear')\n",
    "\n",
    "\n",
    "# Car Object\n",
    "car = Car('Tesla', 'Red', 20000)\n",
    "car.show()\n",
    "# calls methods from Car class\n",
    "car.max_speed()\n",
    "car.change_gear()\n",
    "\n",
    "# Vehicle Object\n",
    "vehicle = Vehicle('BMW', 'white', 75000)\n",
    "vehicle.show()\n",
    "# calls method from a Vehicle class\n",
    "vehicle.max_speed()\n",
    "vehicle.change_gear()"
   ]
  },
  {
   "cell_type": "code",
   "execution_count": 18,
   "id": "83e8ca1b",
   "metadata": {},
   "outputs": [
    {
     "name": "stdout",
     "output_type": "stream",
     "text": [
      "6\n",
      "8\n"
     ]
    }
   ],
   "source": [
    "#14\n",
    "from multipledispatch import dispatch\n",
    "\n",
    "@dispatch(int, int)\n",
    "def add(x, y):\n",
    "    return x + y\n",
    "\n",
    "@dispatch(int, int, int)\n",
    "def add(x, y, z):\n",
    "    return x + y + z\n",
    "\n",
    "print(add(2, 4))      \n",
    "print(add(2, 4, 2))   \n"
   ]
  },
  {
   "cell_type": "code",
   "execution_count": 20,
   "id": "cfe7c2a9",
   "metadata": {},
   "outputs": [
    {
     "name": "stdout",
     "output_type": "stream",
     "text": [
      "4\n",
      "12\n"
     ]
    }
   ],
   "source": [
    "#15\n",
    "from multipledispatch import dispatch\n",
    "\n",
    "@dispatch(int)\n",
    "def Area(x):\n",
    "    return x**2\n",
    "\n",
    "@dispatch(int, int)\n",
    "def Area(x, y):\n",
    "    return x*y\n",
    "\n",
    "print(Area(2))      \n",
    "print(Area(2,6)) "
   ]
  },
  {
   "cell_type": "code",
   "execution_count": 29,
   "id": "8105b231",
   "metadata": {},
   "outputs": [
    {
     "name": "stdout",
     "output_type": "stream",
     "text": [
      "A B has a salary of $50000\n",
      "A B has a salary of $1000\n"
     ]
    }
   ],
   "source": [
    "#16\n",
    "from abc import ABC, abstractmethod\n",
    "class Employee(ABC):\n",
    "    def __init__(self, first_name, last_name):\n",
    "        self.first_name = first_name\n",
    "        self.last_name = last_name\n",
    "    @property\n",
    "    def full_name(self):\n",
    "        return f\"{self.first_name} {self.last_name}\"\n",
    "    @abstractmethod\n",
    "    def get_salary(self):\n",
    "        pass\n",
    "class Full_time_Employee(Employee):\n",
    "    def __init__(self, first_name, last_name, salary):\n",
    "        super().__init__(first_name, last_name)\n",
    "        self.salary = salary\n",
    "    def get_salary(self):\n",
    "        return self.salary\n",
    "class HourlyEmployee(Employee):\n",
    "    def __init__(self, first_name, last_name, working_hours, rate):\n",
    "        super().__init__(first_name, last_name)\n",
    "        self.working_hours = working_hours\n",
    "        self.rate = rate\n",
    "    def get_salary(self):\n",
    "        return self.working_hours * self.rate\n",
    "\n",
    "fte = Full_time_Employee(\"A\", \"B\", 50000)\n",
    "\n",
    "fte_salary = fte.get_salary()\n",
    "print(f\"{fte.full_name} has a salary of ${fte_salary}\")\n",
    "\n",
    "he = HourlyEmployee(\"A\", \"B\", 40, 25)\n",
    "\n",
    "he_salary = he.get_salary()\n",
    "print(f\"{he.full_name} has a salary of ${he_salary}\")    "
   ]
  },
  {
   "cell_type": "code",
   "execution_count": 22,
   "id": "56f4d7b8",
   "metadata": {},
   "outputs": [
    {
     "name": "stdout",
     "output_type": "stream",
     "text": [
      "(4, 6)\n"
     ]
    }
   ],
   "source": [
    "#17\n",
    "class Point:\n",
    "    def __init__(self, x, y):\n",
    "        self.x = x\n",
    "        self.y = y\n",
    "    def __add__(self, other):\n",
    "        x = self.x + other.x\n",
    "        y = self.y + other.y\n",
    "        return Point(x, y)\n",
    "    def __str__(self):\n",
    "        return f\"({self.x}, {self.y})\"\n",
    "\n",
    "p1 = Point(2, 4)\n",
    "p2 = Point(2, 2)\n",
    "p3 = p1 + p2\n",
    "print(p3) "
   ]
  },
  {
   "cell_type": "code",
   "execution_count": 25,
   "id": "63934d91",
   "metadata": {},
   "outputs": [
    {
     "name": "stdout",
     "output_type": "stream",
     "text": [
      "Enter the first number: 6\n",
      "Enter the second number: 8\n",
      "The result of the division is:  0.75\n",
      "Thank you.\n"
     ]
    }
   ],
   "source": [
    "#18\n",
    "while True:\n",
    "    try:\n",
    "        num1 = int(input(\"Enter the first number: \"))\n",
    "        num2 = int(input(\"Enter the second number: \"))\n",
    "        result = num1 / num2\n",
    "        print(\"The result of the division is: \", result)\n",
    "        break\n",
    "    except ZeroDivisionError:\n",
    "        print(\"Error: Division by zero is not allowed.\")\n",
    "    except ValueError:\n",
    "        print(\"Error: Please enter a valid integer.\")\n",
    "    finally:\n",
    "        print(\"Thank you.\")"
   ]
  },
  {
   "cell_type": "code",
   "execution_count": null,
   "id": "9c224441",
   "metadata": {},
   "outputs": [],
   "source": []
  }
 ],
 "metadata": {
  "kernelspec": {
   "display_name": "Python 3 (ipykernel)",
   "language": "python",
   "name": "python3"
  },
  "language_info": {
   "codemirror_mode": {
    "name": "ipython",
    "version": 3
   },
   "file_extension": ".py",
   "mimetype": "text/x-python",
   "name": "python",
   "nbconvert_exporter": "python",
   "pygments_lexer": "ipython3",
   "version": "3.10.4"
  }
 },
 "nbformat": 4,
 "nbformat_minor": 5
}
